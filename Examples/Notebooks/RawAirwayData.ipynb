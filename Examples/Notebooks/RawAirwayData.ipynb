{
 "cells": [
  {
   "cell_type": "code",
   "execution_count": 7,
   "metadata": {
    "collapsed": true
   },
   "outputs": [],
   "source": [
    "import csv\n",
    "import json\n",
    "import math\n",
    "import os\n",
    "import re\n",
    "import matplotlib\n",
    "%matplotlib inline\n",
    "import matplotlib.pyplot as plt\n",
    "\n",
    "os.chdir('/Users/cory.quammen/data/PediatricAirways/AtlasDatabase')"
   ]
  },
  {
   "cell_type": "code",
   "execution_count": 8,
   "metadata": {
    "collapsed": false
   },
   "outputs": [],
   "source": [
    "def ReadCSVFileIntoDict(filename, header=True):\n",
    "    d = {}\n",
    "    with open(filename) as csvFile:\n",
    "        reader = csv.reader(csvFile, delimiter=',', quotechar='\"')\n",
    "        headerRow = []\n",
    "        for row in reader:\n",
    "            if (len(row) > 0 and row[0].startswith('#')):\n",
    "                continue\n",
    "            elif (header):\n",
    "                header = False\n",
    "                headerRow = row\n",
    "                #print headerRow\n",
    "                for col in row:\n",
    "                    d[col] = []\n",
    "            else:\n",
    "                #print row\n",
    "                if (len(headerRow) > 0):\n",
    "                    for (name, value) in zip(headerRow, row):\n",
    "                        d[name].append(value)\n",
    "                else:\n",
    "                    for (i,value) in zip(xrange(len(row)), row):\n",
    "                        colName = 'col%d' % i\n",
    "                        if (not d.has_key(colName)):\n",
    "                            d[colName] = []\n",
    "                        d[colName].append(value)\n",
    "    return d"
   ]
  },
  {
   "cell_type": "code",
   "execution_count": 9,
   "metadata": {
    "collapsed": false
   },
   "outputs": [],
   "source": [
    "# Read all files in the directory\n",
    "files = os.listdir(os.getcwd())\n",
    "\n",
    "# Filter the cross section files\n",
    "files = filter(lambda x: '_ALL_CROSS_SECTIONS.csv' in x, files)\n",
    "def GetScanID(s):\n",
    "    m = re.search('[0-9][0-9][0-9][0-9]', s)\n",
    "    return m.group(0)\n",
    "scanIDs = map(lambda x: GetScanID(x), files)"
   ]
  },
  {
   "cell_type": "code",
   "execution_count": 10,
   "metadata": {
    "collapsed": false
   },
   "outputs": [],
   "source": [
    "# Gather up all curves into a dictionary indexed by scan ID\n",
    "def float_list(lst):\n",
    "    return [float(x) for x in lst]\n",
    "\n",
    "def Distance(x1, x2):\n",
    "    dx = x1[0] - x2[0]\n",
    "    dy = x1[1] - x2[1]\n",
    "    dz = x1[2] - x2[2]\n",
    "    return math.sqrt(dx*dx + dy*dy + dz*dz)\n",
    "\n",
    "curveDict = {}\n",
    "for scanID in scanIDs:\n",
    "    filename = scanID + '_ALL_CROSS_SECTIONS.csv'\n",
    "    curveCSV = ReadCSVFileIntoDict(filename)\n",
    "    centerline = zip(float_list(curveCSV['center of mass:0']),\n",
    "                     float_list(curveCSV['center of mass:1']),\n",
    "                     float_list(curveCSV['center of mass:2']))\n",
    "    cumulativeDistance = [0]\n",
    "    for (idx, x, y) in zip(xrange(len(centerline)-1), centerline[:-1], centerline[1:]):\n",
    "        cumulativeDistance.append(Distance(x, y) + cumulativeDistance[idx])\n",
    "    \n",
    "    # Normalize the cumulative distance to range [0.0, 1.0]\n",
    "    parametricDistance = [(t / cumulativeDistance[-1]) for t in cumulativeDistance]\n",
    "        \n",
    "    curveDict[scanID] = {'curve' : curveCSV['area'],\n",
    "                         'centerline' : centerline,\n",
    "                         't' : parametricDistance}\n"
   ]
  },
  {
   "cell_type": "code",
   "execution_count": 11,
   "metadata": {
    "collapsed": false
   },
   "outputs": [
    {
     "name": "stdout",
     "output_type": "stream",
     "text": [
      "Could not find age for scan 1024\n",
      "Removing from database\n"
     ]
    }
   ],
   "source": [
    "# Get the patient info\n",
    "patientInfo = ReadCSVFileIntoDict('PatientInfo.csv')\n",
    "\n",
    "def CleanNumberString(s):\n",
    "    return ''.join([c for c in s if c in '0123456789-.'])\n",
    "\n",
    "for (scanID, age) in zip(patientInfo['Number'], patientInfo['Age in months']):\n",
    "    if (not curveDict.has_key(scanID)):\n",
    "        continue\n",
    "    curveDict[scanID]['age'] = float(CleanNumberString(age))\n",
    "\n",
    "# Clean out curves for which we don't have patient data\n",
    "for key in curveDict.keys():\n",
    "    if (not curveDict[key].has_key('age')):\n",
    "        print \"Could not find age for scan\", key\n",
    "        print \"Removing from database\"\n",
    "        curveDict.pop(key, None)"
   ]
  },
  {
   "cell_type": "code",
   "execution_count": 12,
   "metadata": {
    "collapsed": false
   },
   "outputs": [],
   "source": [
    "# Find index of point on curve closest to landmark\n",
    "landmarksOfInterest = ['TVC', 'Subglottis', 'EpiglottisTip', 'TracheaCarina']\n",
    "for scanID in curveDict.keys()[2:]:\n",
    "    # Find the landmark file for the scan\n",
    "    filename = scanID + '_LANDMARKS.fcsv'\n",
    "    with open(filename) as landmarksFile:        \n",
    "        landmarksCSV = ReadCSVFileIntoDict(filename, header=False)\n",
    "    xcol = [-float(x) for x in landmarksCSV['col1']]\n",
    "    ycol = [-float(x) for x in landmarksCSV['col2']]\n",
    "    zcol = [float(x) for x in landmarksCSV['col3']]\n",
    "    labelcol = landmarksCSV['col11']\n",
    "    curveDict[scanID]['landmarks'] = {}\n",
    "    for (x, y, z, label) in zip(xcol, ycol, zcol, labelcol):\n",
    "        if (label in landmarksOfInterest):\n",
    "            # Find curve point nearest to landmark\n",
    "            x = float(x)\n",
    "            y = float(y)\n",
    "            z = float(z)\n",
    "            landmarkPosition = (x, y, z)\n",
    "            centerline = curveDict[scanID]['centerline']\n",
    "            distances = map(lambda x: Distance(landmarkPosition, x), centerline)\n",
    "            minDist = min(distances)\n",
    "            minDistIndex = distances.index(minDist)\n",
    "\n",
    "            curveDict[scanID]['landmarks'][label] = {'closest_index' : minDistIndex,\n",
    "                                                     'position' : landmarkPosition}\n"
   ]
  },
  {
   "cell_type": "code",
   "execution_count": 34,
   "metadata": {
    "collapsed": false
   },
   "outputs": [
    {
     "name": "stdout",
     "output_type": "stream",
     "text": [
      "{'Subglottis': 0.8235214658659263, 'TracheaCarina': 0.9673666744737812, 'EpiglottisTip': 0.6924648456880057, 'TVC': 0.7909759943093555}\n"
     ]
    }
   ],
   "source": [
    "# Get average parametric coordinate of the various landmarks\n",
    "averageT = {}\n",
    "for landmark in landmarksOfInterest:\n",
    "    averageT[landmark] = {'cumulative' : 0.0,\n",
    "                          'count' : 0}\n",
    "    for scanID in curveDict.keys():\n",
    "        curveInfo = curveDict[scanID]\n",
    "        try:\n",
    "            landmarkDict = curveInfo['landmarks'][landmark]\n",
    "        except:\n",
    "            curveDict.pop(scanID, None)\n",
    "            continue\n",
    "        tIndex = landmarkDict['closest_index']\n",
    "        t = curveInfo['t'][tIndex]\n",
    "        averageT[landmark]['cumulative'] += t\n",
    "        averageT[landmark]['count'] += 1\n",
    "\n",
    "    averageT[landmark] = averageT[landmark]['cumulative'] / averageT[landmark]['count']\n",
    "\n",
    "print averageT\n"
   ]
  },
  {
   "cell_type": "code",
   "execution_count": null,
   "metadata": {
    "collapsed": true
   },
   "outputs": [],
   "source": []
  }
 ],
 "metadata": {
  "kernelspec": {
   "display_name": "Python 2",
   "language": "python",
   "name": "python2"
  },
  "language_info": {
   "codemirror_mode": {
    "name": "ipython",
    "version": 2
   },
   "file_extension": ".py",
   "mimetype": "text/x-python",
   "name": "python",
   "nbconvert_exporter": "python",
   "pygments_lexer": "ipython2",
   "version": "2.7"
  }
 },
 "nbformat": 4,
 "nbformat_minor": 0
}
